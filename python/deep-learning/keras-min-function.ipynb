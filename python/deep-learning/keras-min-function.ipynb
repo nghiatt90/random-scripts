{
 "cells": [
  {
   "cell_type": "markdown",
   "metadata": {},
   "source": [
    "## Try to learn the minimum function with keras"
   ]
  },
  {
   "cell_type": "code",
   "execution_count": 1,
   "metadata": {},
   "outputs": [
    {
     "name": "stderr",
     "output_type": "stream",
     "text": [
      "/home/nghiatt4/anaconda3/envs/cv36/lib/python3.6/site-packages/h5py/__init__.py:36: FutureWarning: Conversion of the second argument of issubdtype from `float` to `np.floating` is deprecated. In future, it will be treated as `np.float64 == np.dtype(float).type`.\n",
      "  from ._conv import register_converters as _register_converters\n",
      "Using TensorFlow backend.\n"
     ]
    }
   ],
   "source": [
    "import numpy as np\n",
    "from keras.layers import Dense, Activation, BatchNormalization, Input\n",
    "from keras.models import Model, Sequential\n",
    "from keras.optimizers import SGD, Adam\n",
    "import matplotlib.pyplot as plt\n",
    "%matplotlib inline"
   ]
  },
  {
   "cell_type": "code",
   "execution_count": 2,
   "metadata": {},
   "outputs": [],
   "source": [
    "def create_dataset(m = 10000, max_X = 10000):\n",
    "    \"\"\"\n",
    "    m: number of data entries\n",
    "    max_X: data is constrained in [-max_X, max_X)\n",
    "    \"\"\"\n",
    "    x = np.random.randint(-max_X, max_X, (m, 2))\n",
    "    y = np.argmin(x, axis=1)\n",
    "    y = np.eye(2)[y]  # One hot encoding\n",
    "    return x, y"
   ]
  },
  {
   "cell_type": "code",
   "execution_count": 3,
   "metadata": {},
   "outputs": [],
   "source": [
    "X_train, Y_train = create_dataset()\n",
    "X_val, Y_val = create_dataset(1000)"
   ]
  },
  {
   "cell_type": "code",
   "execution_count": 4,
   "metadata": {},
   "outputs": [],
   "source": [
    "def create_model():\n",
    "    X_input = Input(batch_shape=(None, 2))\n",
    "    \n",
    "    X = Dense(3)(X_input)\n",
    "    X = BatchNormalization()(X)\n",
    "    X = Activation('tanh')(X)\n",
    "    \n",
    "    X = Dense(3)(X)\n",
    "    X = BatchNormalization()(X)\n",
    "    X = Activation('tanh')(X)\n",
    "    \n",
    "    X = Dense(2)(X)\n",
    "    X = Activation('sigmoid')(X)\n",
    "    \n",
    "    model = Model(inputs=X_input, outputs=X)\n",
    "    return model"
   ]
  },
  {
   "cell_type": "code",
   "execution_count": 5,
   "metadata": {},
   "outputs": [],
   "source": [
    "model = create_model()\n",
    "optimizer = Adam(lr=0.03, beta_1=0.9, beta_2=0.999)\n",
    "model.compile(optimizer=optimizer, loss='binary_crossentropy', metrics=['accuracy'])"
   ]
  },
  {
   "cell_type": "code",
   "execution_count": 6,
   "metadata": {},
   "outputs": [
    {
     "name": "stdout",
     "output_type": "stream",
     "text": [
      "Epoch 1/100\n",
      "10000/10000 [==============================] - 0s 14us/step - loss: 0.7515 - acc: 0.6061\n",
      "Epoch 2/100\n",
      "10000/10000 [==============================] - 0s 1us/step - loss: 0.7128 - acc: 0.6349\n",
      "Epoch 3/100\n",
      "10000/10000 [==============================] - 0s 1us/step - loss: 0.6752 - acc: 0.6680\n",
      "Epoch 4/100\n",
      "10000/10000 [==============================] - 0s 1us/step - loss: 0.6387 - acc: 0.7020\n",
      "Epoch 5/100\n",
      "10000/10000 [==============================] - 0s 1us/step - loss: 0.6040 - acc: 0.7376\n",
      "Epoch 6/100\n",
      "10000/10000 [==============================] - 0s 1us/step - loss: 0.5715 - acc: 0.7612\n",
      "Epoch 7/100\n",
      "10000/10000 [==============================] - 0s 1us/step - loss: 0.5419 - acc: 0.7611\n",
      "Epoch 8/100\n",
      "10000/10000 [==============================] - 0s 1us/step - loss: 0.5143 - acc: 0.7749\n",
      "Epoch 9/100\n",
      "10000/10000 [==============================] - 0s 1us/step - loss: 0.4863 - acc: 0.8046\n",
      "Epoch 10/100\n",
      "10000/10000 [==============================] - 0s 1us/step - loss: 0.4566 - acc: 0.8439\n",
      "Epoch 11/100\n",
      "10000/10000 [==============================] - 0s 1us/step - loss: 0.4260 - acc: 0.8863\n",
      "Epoch 12/100\n",
      "10000/10000 [==============================] - 0s 1us/step - loss: 0.3965 - acc: 0.9354\n",
      "Epoch 13/100\n",
      "10000/10000 [==============================] - 0s 1us/step - loss: 0.3707 - acc: 0.9702\n",
      "Epoch 14/100\n",
      "10000/10000 [==============================] - 0s 1us/step - loss: 0.3502 - acc: 0.9707\n",
      "Epoch 15/100\n",
      "10000/10000 [==============================] - 0s 1us/step - loss: 0.3337 - acc: 0.9489\n",
      "Epoch 16/100\n",
      "10000/10000 [==============================] - 0s 1us/step - loss: 0.3180 - acc: 0.9409\n",
      "Epoch 17/100\n",
      "10000/10000 [==============================] - 0s 1us/step - loss: 0.3008 - acc: 0.9415\n",
      "Epoch 18/100\n",
      "10000/10000 [==============================] - 0s 1us/step - loss: 0.2815 - acc: 0.9484\n",
      "Epoch 19/100\n",
      "10000/10000 [==============================] - 0s 1us/step - loss: 0.2609 - acc: 0.9606\n",
      "Epoch 20/100\n",
      "10000/10000 [==============================] - 0s 1us/step - loss: 0.2411 - acc: 0.9793\n",
      "Epoch 21/100\n",
      "10000/10000 [==============================] - 0s 1us/step - loss: 0.2250 - acc: 0.9919\n",
      "Epoch 22/100\n",
      "10000/10000 [==============================] - 0s 1us/step - loss: 0.2146 - acc: 0.9809\n",
      "Epoch 23/100\n",
      "10000/10000 [==============================] - 0s 1us/step - loss: 0.2065 - acc: 0.9701\n",
      "Epoch 24/100\n",
      "10000/10000 [==============================] - 0s 1us/step - loss: 0.1955 - acc: 0.9701\n",
      "Epoch 25/100\n",
      "10000/10000 [==============================] - 0s 1us/step - loss: 0.1814 - acc: 0.9768\n",
      "Epoch 26/100\n",
      "10000/10000 [==============================] - 0s 1us/step - loss: 0.1670 - acc: 0.9890\n",
      "Epoch 27/100\n",
      "10000/10000 [==============================] - 0s 1us/step - loss: 0.1559 - acc: 0.9940\n",
      "Epoch 28/100\n",
      "10000/10000 [==============================] - 0s 1us/step - loss: 0.1489 - acc: 0.9855\n",
      "Epoch 29/100\n",
      "10000/10000 [==============================] - 0s 1us/step - loss: 0.1434 - acc: 0.9795\n",
      "Epoch 30/100\n",
      "10000/10000 [==============================] - 0s 1us/step - loss: 0.1360 - acc: 0.9798\n",
      "Epoch 31/100\n",
      "10000/10000 [==============================] - 0s 1us/step - loss: 0.1266 - acc: 0.9856\n",
      "Epoch 32/100\n",
      "10000/10000 [==============================] - 0s 1us/step - loss: 0.1177 - acc: 0.9941\n",
      "Epoch 33/100\n",
      "10000/10000 [==============================] - 0s 1us/step - loss: 0.1120 - acc: 0.9955\n",
      "Epoch 34/100\n",
      "10000/10000 [==============================] - 0s 1us/step - loss: 0.1088 - acc: 0.9880\n",
      "Epoch 35/100\n",
      "10000/10000 [==============================] - 0s 1us/step - loss: 0.1045 - acc: 0.9865\n",
      "Epoch 36/100\n",
      "10000/10000 [==============================] - 0s 1us/step - loss: 0.0982 - acc: 0.9905\n",
      "Epoch 37/100\n",
      "10000/10000 [==============================] - 0s 1us/step - loss: 0.0919 - acc: 0.9977\n",
      "Epoch 38/100\n",
      "10000/10000 [==============================] - 0s 1us/step - loss: 0.0881 - acc: 0.9937\n",
      "Epoch 39/100\n",
      "10000/10000 [==============================] - 0s 1us/step - loss: 0.0859 - acc: 0.9891\n",
      "Epoch 40/100\n",
      "10000/10000 [==============================] - 0s 1us/step - loss: 0.0827 - acc: 0.9890\n",
      "Epoch 41/100\n",
      "10000/10000 [==============================] - 0s 1us/step - loss: 0.0780 - acc: 0.9929\n",
      "Epoch 42/100\n",
      "10000/10000 [==============================] - 0s 1us/step - loss: 0.0742 - acc: 0.9980\n",
      "Epoch 43/100\n",
      "10000/10000 [==============================] - 0s 1us/step - loss: 0.0722 - acc: 0.9951\n",
      "Epoch 44/100\n",
      "10000/10000 [==============================] - 0s 1us/step - loss: 0.0705 - acc: 0.9929\n",
      "Epoch 45/100\n",
      "10000/10000 [==============================] - 0s 1us/step - loss: 0.0673 - acc: 0.9948\n",
      "Epoch 46/100\n",
      "10000/10000 [==============================] - 0s 1us/step - loss: 0.0641 - acc: 0.9986\n",
      "Epoch 47/100\n",
      "10000/10000 [==============================] - 0s 1us/step - loss: 0.0624 - acc: 0.9949\n",
      "Epoch 48/100\n",
      "10000/10000 [==============================] - 0s 1us/step - loss: 0.0611 - acc: 0.9926\n",
      "Epoch 49/100\n",
      "10000/10000 [==============================] - 0s 1us/step - loss: 0.0588 - acc: 0.9940\n",
      "Epoch 50/100\n",
      "10000/10000 [==============================] - 0s 1us/step - loss: 0.0563 - acc: 0.9980\n",
      "Epoch 51/100\n",
      "10000/10000 [==============================] - 0s 1us/step - loss: 0.0551 - acc: 0.9973\n",
      "Epoch 52/100\n",
      "10000/10000 [==============================] - 0s 1us/step - loss: 0.0540 - acc: 0.9959\n",
      "Epoch 53/100\n",
      "10000/10000 [==============================] - 0s 1us/step - loss: 0.0521 - acc: 0.9972\n",
      "Epoch 54/100\n",
      "10000/10000 [==============================] - 0s 1us/step - loss: 0.0503 - acc: 0.9985\n",
      "Epoch 55/100\n",
      "10000/10000 [==============================] - 0s 1us/step - loss: 0.0495 - acc: 0.9959\n",
      "Epoch 56/100\n",
      "10000/10000 [==============================] - 0s 1us/step - loss: 0.0484 - acc: 0.9950\n",
      "Epoch 57/100\n",
      "10000/10000 [==============================] - 0s 1us/step - loss: 0.0468 - acc: 0.9973\n",
      "Epoch 58/100\n",
      "10000/10000 [==============================] - 0s 1us/step - loss: 0.0457 - acc: 0.9984\n",
      "Epoch 59/100\n",
      "10000/10000 [==============================] - 0s 1us/step - loss: 0.0450 - acc: 0.9972\n",
      "Epoch 60/100\n",
      "10000/10000 [==============================] - 0s 1us/step - loss: 0.0438 - acc: 0.9980\n",
      "Epoch 61/100\n",
      "10000/10000 [==============================] - 0s 1us/step - loss: 0.0426 - acc: 0.9986\n",
      "Epoch 62/100\n",
      "10000/10000 [==============================] - 0s 1us/step - loss: 0.0420 - acc: 0.9973\n",
      "Epoch 63/100\n",
      "10000/10000 [==============================] - 0s 1us/step - loss: 0.0411 - acc: 0.9973\n",
      "Epoch 64/100\n",
      "10000/10000 [==============================] - 0s 1us/step - loss: 0.0400 - acc: 0.9987\n",
      "Epoch 65/100\n",
      "10000/10000 [==============================] - 0s 1us/step - loss: 0.0394 - acc: 0.9987\n",
      "Epoch 66/100\n",
      "10000/10000 [==============================] - 0s 1us/step - loss: 0.0387 - acc: 0.9981\n",
      "Epoch 67/100\n",
      "10000/10000 [==============================] - 0s 1us/step - loss: 0.0378 - acc: 0.9988\n",
      "Epoch 68/100\n",
      "10000/10000 [==============================] - 0s 1us/step - loss: 0.0372 - acc: 0.9979\n",
      "Epoch 69/100\n",
      "10000/10000 [==============================] - 0s 1us/step - loss: 0.0366 - acc: 0.9976\n",
      "Epoch 70/100\n",
      "10000/10000 [==============================] - 0s 1us/step - loss: 0.0358 - acc: 0.9987\n",
      "Epoch 71/100\n",
      "10000/10000 [==============================] - 0s 1us/step - loss: 0.0353 - acc: 0.9988\n",
      "Epoch 72/100\n",
      "10000/10000 [==============================] - 0s 1us/step - loss: 0.0347 - acc: 0.9987\n",
      "Epoch 73/100\n",
      "10000/10000 [==============================] - 0s 1us/step - loss: 0.0340 - acc: 0.9991\n",
      "Epoch 74/100\n",
      "10000/10000 [==============================] - 0s 1us/step - loss: 0.0336 - acc: 0.9983\n",
      "Epoch 75/100\n",
      "10000/10000 [==============================] - 0s 1us/step - loss: 0.0331 - acc: 0.9980\n",
      "Epoch 76/100\n",
      "10000/10000 [==============================] - 0s 1us/step - loss: 0.0325 - acc: 0.9991\n",
      "Epoch 77/100\n",
      "10000/10000 [==============================] - 0s 1us/step - loss: 0.0320 - acc: 0.9990\n",
      "Epoch 78/100\n",
      "10000/10000 [==============================] - 0s 1us/step - loss: 0.0315 - acc: 0.9991\n",
      "Epoch 79/100\n",
      "10000/10000 [==============================] - 0s 1us/step - loss: 0.0310 - acc: 0.9989\n",
      "Epoch 80/100\n",
      "10000/10000 [==============================] - 0s 1us/step - loss: 0.0306 - acc: 0.9984\n",
      "Epoch 81/100\n",
      "10000/10000 [==============================] - 0s 1us/step - loss: 0.0302 - acc: 0.9988\n",
      "Epoch 82/100\n",
      "10000/10000 [==============================] - 0s 1us/step - loss: 0.0297 - acc: 0.9992\n"
     ]
    },
    {
     "name": "stdout",
     "output_type": "stream",
     "text": [
      "Epoch 83/100\n",
      "10000/10000 [==============================] - 0s 1us/step - loss: 0.0294 - acc: 0.9992\n",
      "Epoch 84/100\n",
      "10000/10000 [==============================] - 0s 1us/step - loss: 0.0289 - acc: 0.9991\n",
      "Epoch 85/100\n",
      "10000/10000 [==============================] - 0s 1us/step - loss: 0.0286 - acc: 0.9987\n",
      "Epoch 86/100\n",
      "10000/10000 [==============================] - 0s 1us/step - loss: 0.0282 - acc: 0.9988\n",
      "Epoch 87/100\n",
      "10000/10000 [==============================] - 0s 1us/step - loss: 0.0278 - acc: 0.9992\n",
      "Epoch 88/100\n",
      "10000/10000 [==============================] - 0s 1us/step - loss: 0.0275 - acc: 0.9995\n",
      "Epoch 89/100\n",
      "10000/10000 [==============================] - 0s 1us/step - loss: 0.0271 - acc: 0.9992\n",
      "Epoch 90/100\n",
      "10000/10000 [==============================] - 0s 1us/step - loss: 0.0268 - acc: 0.9988\n",
      "Epoch 91/100\n",
      "10000/10000 [==============================] - 0s 1us/step - loss: 0.0264 - acc: 0.9989\n",
      "Epoch 92/100\n",
      "10000/10000 [==============================] - 0s 1us/step - loss: 0.0261 - acc: 0.9993\n",
      "Epoch 93/100\n",
      "10000/10000 [==============================] - 0s 1us/step - loss: 0.0258 - acc: 0.9993\n",
      "Epoch 94/100\n",
      "10000/10000 [==============================] - 0s 1us/step - loss: 0.0255 - acc: 0.9992\n",
      "Epoch 95/100\n",
      "10000/10000 [==============================] - 0s 1us/step - loss: 0.0252 - acc: 0.9988\n",
      "Epoch 96/100\n",
      "10000/10000 [==============================] - 0s 1us/step - loss: 0.0249 - acc: 0.9992\n",
      "Epoch 97/100\n",
      "10000/10000 [==============================] - 0s 1us/step - loss: 0.0246 - acc: 0.9994\n",
      "Epoch 98/100\n",
      "10000/10000 [==============================] - 0s 1us/step - loss: 0.0243 - acc: 0.9992\n",
      "Epoch 99/100\n",
      "10000/10000 [==============================] - 0s 1us/step - loss: 0.0240 - acc: 0.9990\n",
      "Epoch 100/100\n",
      "10000/10000 [==============================] - 0s 1us/step - loss: 0.0238 - acc: 0.9991\n"
     ]
    },
    {
     "data": {
      "text/plain": [
       "<keras.callbacks.History at 0x7f3737593128>"
      ]
     },
     "execution_count": 6,
     "metadata": {},
     "output_type": "execute_result"
    }
   ],
   "source": [
    "model.fit(X_train, Y_train, epochs=100, batch_size=10000)"
   ]
  },
  {
   "cell_type": "code",
   "execution_count": 7,
   "metadata": {},
   "outputs": [
    {
     "data": {
      "text/plain": [
       "[<matplotlib.lines.Line2D at 0x7f37320a3128>]"
      ]
     },
     "execution_count": 7,
     "metadata": {},
     "output_type": "execute_result"
    },
    {
     "data": {
      "image/png": "[encoded data removed]",
      "text/plain": [
       "<matplotlib.figure.Figure at 0x7f37320ec908>"
      ]
     },
     "metadata": {},
     "output_type": "display_data"
    }
   ],
   "source": [
    "plt.plot(model.history.history['loss'])"
   ]
  },
  {
   "cell_type": "code",
   "execution_count": 8,
   "metadata": {},
   "outputs": [
    {
     "name": "stdout",
     "output_type": "stream",
     "text": [
      "1000/1000 [==============================] - 0s 39us/step\n",
      "Loss = 0.029424718648195267, accuracy = 0.9895\n"
     ]
    }
   ],
   "source": [
    "loss, accuracy = model.evaluate(X_val, Y_val)\n",
    "print(f'Loss = {loss}, accuracy = {accuracy}')"
   ]
  },
  {
   "cell_type": "code",
   "execution_count": 9,
   "metadata": {},
   "outputs": [
    {
     "name": "stdout",
     "output_type": "stream",
     "text": [
      "[-2365265 -6567759] -6567759\n",
      "[ 8765610 -1074881] -1074881\n",
      "[1201293 1416632] 1201293\n",
      "[3469059 7881131] 3469059\n",
      "[-3338698  -405794] -3338698\n",
      "[-3479924 -5507460] -5507460\n",
      "[-1610653  4895259] -1610653\n",
      "[-1070131  5527263] -1070131\n",
      "[ 5226025 -6211838] -6211838\n",
      "[-3031653  9675734] -3031653\n"
     ]
    }
   ],
   "source": [
    "# Check if the model generalizes well with bigger numbers\n",
    "X_test, _ = create_dataset(10, 10000000)\n",
    "for inp in X_test:\n",
    "    print(inp, inp[np.argmax(model.predict(np.expand_dims(inp, axis=0)))])"
   ]
  },
  {
   "cell_type": "code",
   "execution_count": null,
   "metadata": {},
   "outputs": [],
   "source": []
  }
 ],
 "metadata": {
  "kernelspec": {
   "display_name": "Python 3",
   "language": "python",
   "name": "python3"
  },
  "language_info": {
   "codemirror_mode": {
    "name": "ipython",
    "version": 3
   },
   "file_extension": ".py",
   "mimetype": "text/x-python",
   "name": "python",
   "nbconvert_exporter": "python",
   "pygments_lexer": "ipython3",
   "version": "3.6.3"
  }
 },
 "nbformat": 4,
 "nbformat_minor": 2
}
